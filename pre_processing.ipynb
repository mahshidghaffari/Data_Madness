{
 "cells": [
  {
   "cell_type": "code",
   "execution_count": 1,
   "metadata": {
    "collapsed": true
   },
   "outputs": [
    {
     "name": "stdout",
     "output_type": "stream",
     "text": [
      "Requirement already satisfied: spotipy in /Users/macbook/opt/anaconda3/lib/python3.8/site-packages (2.22.1)\r\n",
      "Requirement already satisfied: requests>=2.25.0 in /Users/macbook/opt/anaconda3/lib/python3.8/site-packages (from spotipy) (2.25.1)\r\n",
      "Requirement already satisfied: redis>=3.5.3 in /Users/macbook/opt/anaconda3/lib/python3.8/site-packages (from spotipy) (4.5.1)\r\n",
      "Requirement already satisfied: six>=1.15.0 in /Users/macbook/opt/anaconda3/lib/python3.8/site-packages (from spotipy) (1.15.0)\r\n",
      "Requirement already satisfied: urllib3>=1.26.0 in /Users/macbook/opt/anaconda3/lib/python3.8/site-packages (from spotipy) (1.26.4)\r\n",
      "Requirement already satisfied: async-timeout>=4.0.2 in /Users/macbook/opt/anaconda3/lib/python3.8/site-packages (from redis>=3.5.3->spotipy) (4.0.2)\r\n",
      "Requirement already satisfied: certifi>=2017.4.17 in /Users/macbook/opt/anaconda3/lib/python3.8/site-packages (from requests>=2.25.0->spotipy) (2021.10.8)\r\n",
      "Requirement already satisfied: idna<3,>=2.5 in /Users/macbook/opt/anaconda3/lib/python3.8/site-packages (from requests>=2.25.0->spotipy) (2.10)\r\n",
      "Requirement already satisfied: chardet<5,>=3.0.2 in /Users/macbook/opt/anaconda3/lib/python3.8/site-packages (from requests>=2.25.0->spotipy) (4.0.0)\r\n"
     ]
    }
   ],
   "source": [
    "!pip install spotipy --upgrade"
   ]
  },
  {
   "cell_type": "code",
   "execution_count": 2,
   "outputs": [],
   "source": [
    "import os\n",
    "import spotipy\n",
    "from spotipy.oauth2 import SpotifyClientCredentials as cc\n",
    "import numpy as np\n",
    "import pandas as pd\n",
    "from IPython.display import display\n",
    "import warnings\n",
    "import time\n",
    "import json\n",
    "from pprint import pprint\n",
    "from spotipy.oauth2 import SpotifyClientCredentials"
   ],
   "metadata": {
    "collapsed": false,
    "pycharm": {
     "name": "#%%\n"
    }
   }
  },
  {
   "cell_type": "code",
   "execution_count": 5,
   "outputs": [],
   "source": [
    "sp = spotipy.Spotify(client_credentials_manager=SpotifyClientCredentials(client_id = '85bc9d29761941f2a0dafdc9aa8a4903',client_secret = 'e1ee091ccf0b44b6a0dc243abb2f1414'),requests_timeout=10, retries=10)"
   ],
   "metadata": {
    "collapsed": false,
    "pycharm": {
     "name": "#%%\n"
    }
   }
  },
  {
   "cell_type": "code",
   "execution_count": 4,
   "outputs": [
    {
     "name": "stdout",
     "output_type": "stream",
     "text": [
      "(5000, 12)\n"
     ]
    }
   ],
   "source": [
    "playlists = []\n",
    "path = 'data'\n",
    "count = 5\n",
    "for filename in os.listdir(path):\n",
    "    count -= 1\n",
    "    if count < 0:\n",
    "        break\n",
    "    f = os.path.join(path, filename)\n",
    "    if os.path.isfile(f):\n",
    "        d = json.load(open(f))\n",
    "        playlists.append(pd.DataFrame(d['playlists']))\n",
    "\n",
    "playlists = pd.concat(playlists)\n",
    "playlists = playlists.reset_index(drop=True)\n",
    "print(playlists.shape)"
   ],
   "metadata": {
    "collapsed": false,
    "pycharm": {
     "name": "#%%\n"
    }
   }
  },
  {
   "cell_type": "code",
   "execution_count": 5,
   "outputs": [
    {
     "name": "stdout",
     "output_type": "stream",
     "text": [
      "(334487, 8)\n"
     ]
    },
    {
     "data": {
      "text/plain": "   pos       artist_name                             track_uri  \\\n0    0  Lost Frequencies  spotify:track:2vCtiBvJJZfz773yTfAxPP   \n1    1       John Legend  spotify:track:5WOLZP8KrXiupBjG1SSN5U   \n2    2        July Child  spotify:track:0oQDQ9QiqsO63EEBAro8Le   \n3    3            Tiësto  spotify:track:7MUS0La2IQ85vJ59fQqtoN   \n4    4         Joe Stone  spotify:track:3ciyZYofjiqmMUElM5qgGB   \n\n                              artist_uri  \\\n0  spotify:artist:7f5Zgnp2spUuuzKplmRkt7   \n1  spotify:artist:5y2Xq6xcjJb2jVM54GHK3t   \n2  spotify:artist:3Jghk94Gog2dhBAO7ZZaM8   \n3  spotify:artist:2o5jDhtHVPhrJdv3cEQ99Z   \n4  spotify:artist:4kwEd1P9j15ZqUVP5zK7Pv   \n\n                                  track_name  \\\n0        What Is Love 2016 - Mike Mago Remix   \n1   Love Me Now - Dave Audé Remix Radio Edit   \n2                               Thinkin of U   \n3  I Will Be Here - (Wolfgang Gartner Remix)   \n4           The Party (This Is How We Do It)   \n\n                              album_uri  duration_ms  \\\n0  spotify:album:4N1e8k2o2NN932Y8xgZV1p       209882   \n1  spotify:album:2CFZOjwtV7B6XzULEwIdHN       219106   \n2  spotify:album:2i0oT2HtRN4o3P45zQjel7       194000   \n3  spotify:album:2qY9UxNEbQR2O2ECc3Fd48       237066   \n4  spotify:album:3SBDe6WBbEXNtjraPxXLOh       185807   \n\n                         album_name  \n0                 What Is Love 2016  \n1             Love Me Now (Remixes)  \n2                      Thinkin of U  \n3              Kaleidoscope Remixed  \n4  The Party (This Is How We Do It)  ",
      "text/html": "<div>\n<style scoped>\n    .dataframe tbody tr th:only-of-type {\n        vertical-align: middle;\n    }\n\n    .dataframe tbody tr th {\n        vertical-align: top;\n    }\n\n    .dataframe thead th {\n        text-align: right;\n    }\n</style>\n<table border=\"1\" class=\"dataframe\">\n  <thead>\n    <tr style=\"text-align: right;\">\n      <th></th>\n      <th>pos</th>\n      <th>artist_name</th>\n      <th>track_uri</th>\n      <th>artist_uri</th>\n      <th>track_name</th>\n      <th>album_uri</th>\n      <th>duration_ms</th>\n      <th>album_name</th>\n    </tr>\n  </thead>\n  <tbody>\n    <tr>\n      <th>0</th>\n      <td>0</td>\n      <td>Lost Frequencies</td>\n      <td>spotify:track:2vCtiBvJJZfz773yTfAxPP</td>\n      <td>spotify:artist:7f5Zgnp2spUuuzKplmRkt7</td>\n      <td>What Is Love 2016 - Mike Mago Remix</td>\n      <td>spotify:album:4N1e8k2o2NN932Y8xgZV1p</td>\n      <td>209882</td>\n      <td>What Is Love 2016</td>\n    </tr>\n    <tr>\n      <th>1</th>\n      <td>1</td>\n      <td>John Legend</td>\n      <td>spotify:track:5WOLZP8KrXiupBjG1SSN5U</td>\n      <td>spotify:artist:5y2Xq6xcjJb2jVM54GHK3t</td>\n      <td>Love Me Now - Dave Audé Remix Radio Edit</td>\n      <td>spotify:album:2CFZOjwtV7B6XzULEwIdHN</td>\n      <td>219106</td>\n      <td>Love Me Now (Remixes)</td>\n    </tr>\n    <tr>\n      <th>2</th>\n      <td>2</td>\n      <td>July Child</td>\n      <td>spotify:track:0oQDQ9QiqsO63EEBAro8Le</td>\n      <td>spotify:artist:3Jghk94Gog2dhBAO7ZZaM8</td>\n      <td>Thinkin of U</td>\n      <td>spotify:album:2i0oT2HtRN4o3P45zQjel7</td>\n      <td>194000</td>\n      <td>Thinkin of U</td>\n    </tr>\n    <tr>\n      <th>3</th>\n      <td>3</td>\n      <td>Tiësto</td>\n      <td>spotify:track:7MUS0La2IQ85vJ59fQqtoN</td>\n      <td>spotify:artist:2o5jDhtHVPhrJdv3cEQ99Z</td>\n      <td>I Will Be Here - (Wolfgang Gartner Remix)</td>\n      <td>spotify:album:2qY9UxNEbQR2O2ECc3Fd48</td>\n      <td>237066</td>\n      <td>Kaleidoscope Remixed</td>\n    </tr>\n    <tr>\n      <th>4</th>\n      <td>4</td>\n      <td>Joe Stone</td>\n      <td>spotify:track:3ciyZYofjiqmMUElM5qgGB</td>\n      <td>spotify:artist:4kwEd1P9j15ZqUVP5zK7Pv</td>\n      <td>The Party (This Is How We Do It)</td>\n      <td>spotify:album:3SBDe6WBbEXNtjraPxXLOh</td>\n      <td>185807</td>\n      <td>The Party (This Is How We Do It)</td>\n    </tr>\n  </tbody>\n</table>\n</div>"
     },
     "execution_count": 5,
     "metadata": {},
     "output_type": "execute_result"
    }
   ],
   "source": [
    "songs = []\n",
    "for i in range(len(playlists)):\n",
    "    tracks = playlists.iloc[i].loc['tracks']\n",
    "    for track in tracks:\n",
    "        songs.append(track)\n",
    "\n",
    "songs_df = pd.DataFrame(songs)\n",
    "print(songs_df.shape)\n",
    "songs_df.head()"
   ],
   "metadata": {
    "collapsed": false,
    "pycharm": {
     "name": "#%%\n"
    }
   }
  },
  {
   "cell_type": "code",
   "execution_count": 6,
   "outputs": [
    {
     "name": "stdout",
     "output_type": "stream",
     "text": [
      "(108870, 8)\n"
     ]
    }
   ],
   "source": [
    "songs_df = songs_df.drop_duplicates('track_uri')\n",
    "print(songs_df.shape)"
   ],
   "metadata": {
    "collapsed": false,
    "pycharm": {
     "name": "#%%\n"
    }
   }
  },
  {
   "cell_type": "code",
   "execution_count": 25,
   "outputs": [],
   "source": [
    "#DO NOT RUN THE AUDIO FEATURES HAVE ALREADY BEEN STORED IN THE AUDIO_FEATURES FILE\n",
    "def run_features():\n",
    "    sleep_min = 1\n",
    "    sleep_max = 2\n",
    "    start_time = time.time()\n",
    "    request_count = 0\n",
    "    tracks_w_features = pd.DataFrame()\n",
    "    for i in range(0,3344):\n",
    "        if request_count % 13 == 0:\n",
    "            time.sleep(np.random.uniform(sleep_min, sleep_max))\n",
    "        else:\n",
    "            tracks_to_get = songs_df.iloc[request_count:request_count+49][\"track_uri\"] #get the uri of these songs to get audio features\n",
    "            tracks = pd.DataFrame(sp.audio_features(tracks_to_get))\n",
    "            tracks_w_features = tracks_w_features.append(tracks)\n",
    "        request_count+=49\n",
    "\n",
    "    #remove useless-categorical columns, can use index to get song information later\n",
    "    # tracks_w_features = tracks_w_features.drop(columns=['mode','key','time_signature', 'duration_ms','analysis_url','track_href','id','type']).copy()\n",
    "    warnings.filterwarnings(\"ignore\")\n",
    "    warnings.filterwarnings(action='once')\n",
    "\n",
    "    from pathlib import Path\n",
    "    filepath = Path('audio_features.csv')\n",
    "    filepath.parent.mkdir(parents=True, exist_ok=True)\n",
    "    tracks_w_features.to_csv(filepath)"
   ],
   "metadata": {
    "collapsed": false,
    "pycharm": {
     "name": "#%%\n"
    }
   }
  },
  {
   "cell_type": "code",
   "execution_count": 26,
   "outputs": [],
   "source": [
    "# songs = pd.read_csv('recommender-systems/allsongs.csv')\n",
    "run_features()\n",
    "\n",
    "\n",
    "\n",
    "# result_artist = sp.artist(songs_df['artist_uri'][0])\n",
    "# result_song = sp.audio_features(songs_df['track_uri'][0])\n",
    "# result_song = sp.track(songs_df['track_uri'][0])\n",
    "# print(result_artist)\n",
    "# print()\n",
    "# print(\"--------------------------------------------\")\n",
    "# print()\n",
    "# print(result_song)"
   ],
   "metadata": {
    "collapsed": false,
    "pycharm": {
     "name": "#%%\n"
    }
   }
  },
  {
   "cell_type": "code",
   "execution_count": 8,
   "outputs": [
    {
     "data": {
      "text/plain": "101526"
     },
     "execution_count": 8,
     "metadata": {},
     "output_type": "execute_result"
    }
   ],
   "source": [
    "data = pd.read_csv('audio_features.csv')\n",
    "data = data.drop(columns=['Unnamed: 0','0','mode','key','time_signature','analysis_url','track_href','id','type']).copy()\n",
    "# print(data[data['uri'].str.len() == len('spotify:track:6EpRaXYhGOB3fj4V2uDkMJ')])\n",
    "\n",
    "\n",
    "print(len(data))\n",
    "data.head()\n"
   ],
   "metadata": {
    "collapsed": false,
    "pycharm": {
     "name": "#%%\n"
    }
   }
  },
  {
   "cell_type": "code",
   "execution_count": null,
   "outputs": [
    {
     "name": "stdout",
     "output_type": "stream",
     "text": [
      "0\n",
      "100\n",
      "200\n",
      "300\n",
      "400\n",
      "500\n",
      "600\n",
      "700\n",
      "800\n",
      "900\n",
      "1000\n"
     ]
    }
   ],
   "source": [
    "pop = []\n",
    "sleep_min = 1\n",
    "sleep_max = 2\n",
    "start_time = time.time()\n",
    "request_count = 0\n",
    "count = 0\n",
    "# 2337\n",
    "for i in range(0,2457):\n",
    "        if request_count % 13 == 0:\n",
    "            time.sleep(np.random.uniform(sleep_min, sleep_max))\n",
    "            count += 1\n",
    "        else:\n",
    "\n",
    "            tracks_to_get = data.iloc[request_count:request_count+43][\"uri\"] #get the uri of these songs to get audio features\n",
    "            track_list = sp.tracks(tracks_to_get)\n",
    "            # pop.extend(sp.tracks(tracks_to_get)['popularity'])\n",
    "            for j in track_list['tracks']:\n",
    "                # print('here')\n",
    "                if j is None:\n",
    "                    pop.append(None)\n",
    "                else:\n",
    "                    pop.append(j['popularity'])\n",
    "        request_count+=43\n",
    "        if i % 100 == 0:\n",
    "            print(i)\n",
    "        if i > 2300:\n",
    "            if i % 2 == 0:\n",
    "                print(i)\n",
    "\n",
    "print(count)"
   ],
   "metadata": {
    "collapsed": false,
    "pycharm": {
     "name": "#%%\n",
     "is_executing": true
    }
   }
  },
  {
   "cell_type": "code",
   "execution_count": 89,
   "outputs": [
    {
     "ename": "AttributeError",
     "evalue": "'list' object has no attribute 'isnane'",
     "output_type": "error",
     "traceback": [
      "\u001B[0;31m---------------------------------------------------------------------------\u001B[0m",
      "\u001B[0;31mAttributeError\u001B[0m                            Traceback (most recent call last)",
      "\u001B[0;32m<ipython-input-89-3afe51f9ebe1>\u001B[0m in \u001B[0;36m<module>\u001B[0;34m\u001B[0m\n\u001B[0;32m----> 1\u001B[0;31m \u001B[0mlen\u001B[0m\u001B[0;34m(\u001B[0m\u001B[0mpop\u001B[0m\u001B[0;34m.\u001B[0m\u001B[0misnane\u001B[0m\u001B[0;34m(\u001B[0m\u001B[0;34m)\u001B[0m\u001B[0;34m)\u001B[0m\u001B[0;34m\u001B[0m\u001B[0;34m\u001B[0m\u001B[0m\n\u001B[0m",
      "\u001B[0;31mAttributeError\u001B[0m: 'list' object has no attribute 'isnane'"
     ]
    }
   ],
   "source": [
    "len(pop)"
   ],
   "metadata": {
    "collapsed": false,
    "pycharm": {
     "name": "#%%\n"
    }
   }
  },
  {
   "cell_type": "markdown",
   "source": [],
   "metadata": {
    "collapsed": false
   }
  },
  {
   "cell_type": "code",
   "execution_count": 57,
   "outputs": [
    {
     "name": "stdout",
     "output_type": "stream",
     "text": [
      "28\n",
      "17\n",
      "56\n",
      "52\n",
      "46\n",
      "41\n",
      "60\n",
      "30\n",
      "0\n",
      "0\n",
      "8\n",
      "23\n",
      "25\n",
      "10\n",
      "0\n",
      "25\n",
      "0\n",
      "26\n",
      "0\n",
      "0\n",
      "9\n",
      "49\n",
      "46\n",
      "0\n",
      "34\n",
      "17\n",
      "22\n",
      "0\n",
      "33\n",
      "0\n",
      "0\n",
      "44\n",
      "39\n",
      "36\n",
      "23\n",
      "0\n",
      "39\n",
      "0\n",
      "31\n",
      "52\n",
      "0\n",
      "0\n",
      "67\n",
      "0\n",
      "16\n",
      "67\n",
      "22\n",
      "28\n",
      "0\n"
     ]
    },
    {
     "name": "stderr",
     "output_type": "stream",
     "text": [
      "/Users/macbook/opt/anaconda3/lib/python3.8/site-packages/ipykernel/ipkernel.py:287: DeprecationWarning: `should_run_async` will not call `transform_cell` automatically in the future. Please pass the result to `transformed_cell` argument and any exception that happen during thetransform in `preprocessing_exc_tuple` in IPython 7.17 and above.\n",
      "  and should_run_async(code)\n"
     ]
    }
   ],
   "source": [
    "list = songs_df.iloc[request_count:request_count+49][\"track_uri\"]\n",
    "h = sp.tracks(list)\n",
    "for j in h['tracks']:\n",
    "    if(j is not None):\n",
    "        print(j['popularity'])\n"
   ],
   "metadata": {
    "collapsed": false,
    "pycharm": {
     "name": "#%%\n"
    }
   }
  },
  {
   "cell_type": "code",
   "execution_count": null,
   "outputs": [],
   "source": [
    "list = data.iloc[request_count:request_count+49][\"artist\"]"
   ],
   "metadata": {
    "collapsed": false,
    "pycharm": {
     "name": "#%%\n"
    }
   }
  },
  {
   "cell_type": "code",
   "execution_count": null,
   "outputs": [],
   "source": [],
   "metadata": {
    "collapsed": false,
    "pycharm": {
     "name": "#%%\n"
    }
   }
  },
  {
   "cell_type": "code",
   "execution_count": null,
   "outputs": [],
   "source": [],
   "metadata": {
    "collapsed": false,
    "pycharm": {
     "name": "#%%\n"
    }
   }
  }
 ],
 "metadata": {
  "kernelspec": {
   "display_name": "Python 3",
   "language": "python",
   "name": "python3"
  },
  "language_info": {
   "codemirror_mode": {
    "name": "ipython",
    "version": 2
   },
   "file_extension": ".py",
   "mimetype": "text/x-python",
   "name": "python",
   "nbconvert_exporter": "python",
   "pygments_lexer": "ipython2",
   "version": "2.7.6"
  }
 },
 "nbformat": 4,
 "nbformat_minor": 0
}