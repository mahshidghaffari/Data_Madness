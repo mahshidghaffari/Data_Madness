{
 "cells": [
  {
   "cell_type": "code",
   "execution_count": 1,
   "metadata": {
    "collapsed": true
   },
   "outputs": [
    {
     "name": "stdout",
     "output_type": "stream",
     "text": [
      "Requirement already satisfied: spotipy in /Users/macbook/opt/anaconda3/lib/python3.8/site-packages (2.22.1)\r\n",
      "Requirement already satisfied: requests>=2.25.0 in /Users/macbook/opt/anaconda3/lib/python3.8/site-packages (from spotipy) (2.25.1)\r\n",
      "Requirement already satisfied: redis>=3.5.3 in /Users/macbook/opt/anaconda3/lib/python3.8/site-packages (from spotipy) (4.5.1)\r\n",
      "Requirement already satisfied: six>=1.15.0 in /Users/macbook/opt/anaconda3/lib/python3.8/site-packages (from spotipy) (1.15.0)\r\n",
      "Requirement already satisfied: urllib3>=1.26.0 in /Users/macbook/opt/anaconda3/lib/python3.8/site-packages (from spotipy) (1.26.4)\r\n",
      "Requirement already satisfied: async-timeout>=4.0.2 in /Users/macbook/opt/anaconda3/lib/python3.8/site-packages (from redis>=3.5.3->spotipy) (4.0.2)\r\n",
      "Requirement already satisfied: certifi>=2017.4.17 in /Users/macbook/opt/anaconda3/lib/python3.8/site-packages (from requests>=2.25.0->spotipy) (2021.10.8)\r\n",
      "Requirement already satisfied: idna<3,>=2.5 in /Users/macbook/opt/anaconda3/lib/python3.8/site-packages (from requests>=2.25.0->spotipy) (2.10)\r\n",
      "Requirement already satisfied: chardet<5,>=3.0.2 in /Users/macbook/opt/anaconda3/lib/python3.8/site-packages (from requests>=2.25.0->spotipy) (4.0.0)\r\n"
     ]
    }
   ],
   "source": [
    "!pip install spotipy --upgrade"
   ]
  },
  {
   "cell_type": "code",
   "execution_count": 2,
   "outputs": [],
   "source": [
    "import os\n",
    "import spotipy\n",
    "from spotipy.oauth2 import SpotifyClientCredentials as cc\n",
    "import numpy as np\n",
    "import pandas as pd\n",
    "from IPython.display import display\n",
    "import warnings\n",
    "import time\n",
    "import json\n",
    "from pprint import pprint\n",
    "from spotipy.oauth2 import SpotifyClientCredentials"
   ],
   "metadata": {
    "collapsed": false,
    "pycharm": {
     "name": "#%%\n"
    }
   }
  },
  {
   "cell_type": "code",
   "execution_count": 3,
   "outputs": [],
   "source": [
    "sp = spotipy.Spotify(client_credentials_manager=SpotifyClientCredentials(client_id = '85bc9d29761941f2a0dafdc9aa8a4903',client_secret = 'e1ee091ccf0b44b6a0dc243abb2f1414'),requests_timeout=10, retries=10)"
   ],
   "metadata": {
    "collapsed": false,
    "pycharm": {
     "name": "#%%\n"
    }
   }
  },
  {
   "cell_type": "code",
   "execution_count": 18,
   "outputs": [
    {
     "name": "stdout",
     "output_type": "stream",
     "text": [
      "(5000, 12)\n"
     ]
    }
   ],
   "source": [
    "playlists = []\n",
    "path = 'data'\n",
    "count = 5\n",
    "for filename in os.listdir(path):\n",
    "    count -= 1\n",
    "    if count < 0:\n",
    "        break\n",
    "    f = os.path.join(path, filename)\n",
    "    if os.path.isfile(f):\n",
    "        d = json.load(open(f))\n",
    "        playlists.append(pd.DataFrame(d['playlists']))\n",
    "\n",
    "playlists = pd.concat(playlists)\n",
    "playlists = playlists.reset_index(drop=True)\n",
    "print(playlists.shape)"
   ],
   "metadata": {
    "collapsed": false,
    "pycharm": {
     "name": "#%%\n"
    }
   }
  },
  {
   "cell_type": "code",
   "execution_count": 19,
   "outputs": [
    {
     "name": "stdout",
     "output_type": "stream",
     "text": [
      "(334487, 8)\n"
     ]
    },
    {
     "data": {
      "text/plain": "   pos       artist_name                             track_uri  \\\n0    0  Lost Frequencies  spotify:track:2vCtiBvJJZfz773yTfAxPP   \n1    1       John Legend  spotify:track:5WOLZP8KrXiupBjG1SSN5U   \n2    2        July Child  spotify:track:0oQDQ9QiqsO63EEBAro8Le   \n3    3            Tiësto  spotify:track:7MUS0La2IQ85vJ59fQqtoN   \n4    4         Joe Stone  spotify:track:3ciyZYofjiqmMUElM5qgGB   \n\n                              artist_uri  \\\n0  spotify:artist:7f5Zgnp2spUuuzKplmRkt7   \n1  spotify:artist:5y2Xq6xcjJb2jVM54GHK3t   \n2  spotify:artist:3Jghk94Gog2dhBAO7ZZaM8   \n3  spotify:artist:2o5jDhtHVPhrJdv3cEQ99Z   \n4  spotify:artist:4kwEd1P9j15ZqUVP5zK7Pv   \n\n                                  track_name  \\\n0        What Is Love 2016 - Mike Mago Remix   \n1   Love Me Now - Dave Audé Remix Radio Edit   \n2                               Thinkin of U   \n3  I Will Be Here - (Wolfgang Gartner Remix)   \n4           The Party (This Is How We Do It)   \n\n                              album_uri  duration_ms  \\\n0  spotify:album:4N1e8k2o2NN932Y8xgZV1p       209882   \n1  spotify:album:2CFZOjwtV7B6XzULEwIdHN       219106   \n2  spotify:album:2i0oT2HtRN4o3P45zQjel7       194000   \n3  spotify:album:2qY9UxNEbQR2O2ECc3Fd48       237066   \n4  spotify:album:3SBDe6WBbEXNtjraPxXLOh       185807   \n\n                         album_name  \n0                 What Is Love 2016  \n1             Love Me Now (Remixes)  \n2                      Thinkin of U  \n3              Kaleidoscope Remixed  \n4  The Party (This Is How We Do It)  ",
      "text/html": "<div>\n<style scoped>\n    .dataframe tbody tr th:only-of-type {\n        vertical-align: middle;\n    }\n\n    .dataframe tbody tr th {\n        vertical-align: top;\n    }\n\n    .dataframe thead th {\n        text-align: right;\n    }\n</style>\n<table border=\"1\" class=\"dataframe\">\n  <thead>\n    <tr style=\"text-align: right;\">\n      <th></th>\n      <th>pos</th>\n      <th>artist_name</th>\n      <th>track_uri</th>\n      <th>artist_uri</th>\n      <th>track_name</th>\n      <th>album_uri</th>\n      <th>duration_ms</th>\n      <th>album_name</th>\n    </tr>\n  </thead>\n  <tbody>\n    <tr>\n      <th>0</th>\n      <td>0</td>\n      <td>Lost Frequencies</td>\n      <td>spotify:track:2vCtiBvJJZfz773yTfAxPP</td>\n      <td>spotify:artist:7f5Zgnp2spUuuzKplmRkt7</td>\n      <td>What Is Love 2016 - Mike Mago Remix</td>\n      <td>spotify:album:4N1e8k2o2NN932Y8xgZV1p</td>\n      <td>209882</td>\n      <td>What Is Love 2016</td>\n    </tr>\n    <tr>\n      <th>1</th>\n      <td>1</td>\n      <td>John Legend</td>\n      <td>spotify:track:5WOLZP8KrXiupBjG1SSN5U</td>\n      <td>spotify:artist:5y2Xq6xcjJb2jVM54GHK3t</td>\n      <td>Love Me Now - Dave Audé Remix Radio Edit</td>\n      <td>spotify:album:2CFZOjwtV7B6XzULEwIdHN</td>\n      <td>219106</td>\n      <td>Love Me Now (Remixes)</td>\n    </tr>\n    <tr>\n      <th>2</th>\n      <td>2</td>\n      <td>July Child</td>\n      <td>spotify:track:0oQDQ9QiqsO63EEBAro8Le</td>\n      <td>spotify:artist:3Jghk94Gog2dhBAO7ZZaM8</td>\n      <td>Thinkin of U</td>\n      <td>spotify:album:2i0oT2HtRN4o3P45zQjel7</td>\n      <td>194000</td>\n      <td>Thinkin of U</td>\n    </tr>\n    <tr>\n      <th>3</th>\n      <td>3</td>\n      <td>Tiësto</td>\n      <td>spotify:track:7MUS0La2IQ85vJ59fQqtoN</td>\n      <td>spotify:artist:2o5jDhtHVPhrJdv3cEQ99Z</td>\n      <td>I Will Be Here - (Wolfgang Gartner Remix)</td>\n      <td>spotify:album:2qY9UxNEbQR2O2ECc3Fd48</td>\n      <td>237066</td>\n      <td>Kaleidoscope Remixed</td>\n    </tr>\n    <tr>\n      <th>4</th>\n      <td>4</td>\n      <td>Joe Stone</td>\n      <td>spotify:track:3ciyZYofjiqmMUElM5qgGB</td>\n      <td>spotify:artist:4kwEd1P9j15ZqUVP5zK7Pv</td>\n      <td>The Party (This Is How We Do It)</td>\n      <td>spotify:album:3SBDe6WBbEXNtjraPxXLOh</td>\n      <td>185807</td>\n      <td>The Party (This Is How We Do It)</td>\n    </tr>\n  </tbody>\n</table>\n</div>"
     },
     "execution_count": 19,
     "metadata": {},
     "output_type": "execute_result"
    }
   ],
   "source": [
    "songs = []\n",
    "for i in range(len(playlists)):\n",
    "    tracks = playlists.iloc[i].loc['tracks']\n",
    "    for track in tracks:\n",
    "        songs.append(track)\n",
    "\n",
    "songs_df = pd.DataFrame(songs)\n",
    "print(songs_df.shape)\n",
    "songs_df.head()"
   ],
   "metadata": {
    "collapsed": false,
    "pycharm": {
     "name": "#%%\n"
    }
   }
  },
  {
   "cell_type": "code",
   "execution_count": 20,
   "outputs": [
    {
     "name": "stdout",
     "output_type": "stream",
     "text": [
      "(108870, 8)\n"
     ]
    }
   ],
   "source": [
    "songs_df = songs_df.drop_duplicates('track_uri')\n",
    "print(songs_df.shape)"
   ],
   "metadata": {
    "collapsed": false,
    "pycharm": {
     "name": "#%%\n"
    }
   }
  },
  {
   "cell_type": "code",
   "execution_count": 25,
   "outputs": [],
   "source": [
    "#DO NOT RUN THE AUDIO FEATURES HAVE ALREADY BEEN STORED IN THE AUDIO_FEATURES FILE\n",
    "def run_features():\n",
    "    sleep_min = 1\n",
    "    sleep_max = 2\n",
    "    start_time = time.time()\n",
    "    request_count = 0\n",
    "    tracks_w_features = pd.DataFrame()\n",
    "    for i in range(0,3344):\n",
    "        if request_count % 13 == 0:\n",
    "            time.sleep(np.random.uniform(sleep_min, sleep_max))\n",
    "        else:\n",
    "            tracks_to_get = songs_df.iloc[request_count:request_count+49][\"track_uri\"] #get the uri of these songs to get audio features\n",
    "            tracks = pd.DataFrame(sp.audio_features(tracks_to_get))\n",
    "            tracks_w_features = tracks_w_features.append(tracks)\n",
    "        request_count+=49\n",
    "\n",
    "    #remove useless-categorical columns, can use index to get song information later\n",
    "    # tracks_w_features = tracks_w_features.drop(columns=['mode','key','time_signature', 'duration_ms','analysis_url','track_href','id','type']).copy()\n",
    "    warnings.filterwarnings(\"ignore\")\n",
    "    warnings.filterwarnings(action='once')\n",
    "\n",
    "    from pathlib import Path\n",
    "    filepath = Path('audio_features.csv')\n",
    "    filepath.parent.mkdir(parents=True, exist_ok=True)\n",
    "    tracks_w_features.to_csv(filepath)"
   ],
   "metadata": {
    "collapsed": false,
    "pycharm": {
     "name": "#%%\n"
    }
   }
  },
  {
   "cell_type": "code",
   "execution_count": 26,
   "outputs": [],
   "source": [
    "# songs = pd.read_csv('recommender-systems/allsongs.csv')\n",
    "run_features()\n",
    "\n",
    "\n",
    "\n",
    "# result_artist = sp.artist(songs_df['artist_uri'][0])\n",
    "# result_song = sp.audio_features(songs_df['track_uri'][0])\n",
    "# result_song = sp.track(songs_df['track_uri'][0])\n",
    "# print(result_artist)\n",
    "# print()\n",
    "# print(\"--------------------------------------------\")\n",
    "# print()\n",
    "# print(result_song)"
   ],
   "metadata": {
    "collapsed": false,
    "pycharm": {
     "name": "#%%\n"
    }
   }
  },
  {
   "cell_type": "code",
   "execution_count": 8,
   "outputs": [
    {
     "data": {
      "text/plain": "101526"
     },
     "execution_count": 8,
     "metadata": {},
     "output_type": "execute_result"
    }
   ],
   "source": [
    "data = pd.read_csv('audio_features.csv')\n",
    "data = data.drop(columns=['Unnamed: 0','0','mode','key','time_signature','analysis_url','track_href','id','type']).copy()\n",
    "# print(data[data['uri'].str.len() == len('spotify:track:6EpRaXYhGOB3fj4V2uDkMJ')])\n",
    "\n",
    "\n",
    "print(len(data))\n",
    "data.head()\n"
   ],
   "metadata": {
    "collapsed": false,
    "pycharm": {
     "name": "#%%\n"
    }
   }
  },
  {
   "cell_type": "code",
   "execution_count": 11,
   "outputs": [
    {
     "name": "stdout",
     "output_type": "stream",
     "text": [
      "0\n",
      "100\n",
      "200\n",
      "300\n",
      "400\n",
      "500\n",
      "600\n",
      "700\n",
      "800\n",
      "900\n",
      "1000\n",
      "1100\n",
      "1200\n",
      "1300\n",
      "1400\n",
      "1500\n",
      "1600\n",
      "1700\n",
      "1800\n",
      "1900\n",
      "2000\n",
      "2100\n",
      "2200\n",
      "2300\n",
      "2302\n",
      "2304\n",
      "2306\n",
      "2308\n",
      "2310\n",
      "2312\n",
      "2314\n",
      "2316\n",
      "2318\n",
      "2320\n",
      "2322\n",
      "2324\n",
      "2326\n",
      "2328\n",
      "2330\n",
      "2332\n",
      "2334\n",
      "180\n"
     ]
    }
   ],
   "source": [
    "pop = []\n",
    "sleep_min = 1\n",
    "sleep_max = 2\n",
    "start_time = time.time()\n",
    "request_count = 0\n",
    "count = 0\n",
    "# 2337\n",
    "for i in range(0,2336):\n",
    "        if request_count % 13 == 0:\n",
    "            time.sleep(np.random.uniform(sleep_min, sleep_max))\n",
    "            count += 1\n",
    "        else:\n",
    "\n",
    "            tracks_to_get = data.iloc[request_count:request_count+43][\"uri\"] #get the uri of these songs to get audio features\n",
    "            track_list = sp.tracks(tracks_to_get)\n",
    "            # pop.extend(sp.tracks(tracks_to_get)['popularity'])\n",
    "            for j in track_list['tracks']:\n",
    "                # print('here')\n",
    "                if j is None:\n",
    "                    pop.append(None)\n",
    "                else:\n",
    "                    pop.append(j['popularity'])\n",
    "        request_count+=43\n",
    "        if i % 100 == 0:\n",
    "            print(i)\n",
    "        if i > 2300:\n",
    "            if i % 2 == 0:\n",
    "                print(i)\n",
    "\n",
    "print(count)"
   ],
   "metadata": {
    "collapsed": false,
    "pycharm": {
     "name": "#%%\n"
    }
   }
  },
  {
   "cell_type": "code",
   "execution_count": 12,
   "outputs": [
    {
     "data": {
      "text/plain": "92708"
     },
     "execution_count": 12,
     "metadata": {},
     "output_type": "execute_result"
    }
   ],
   "source": [
    "# 8818\n",
    "len(pop)"
   ],
   "metadata": {
    "collapsed": false,
    "pycharm": {
     "name": "#%%\n"
    }
   }
  },
  {
   "cell_type": "code",
   "execution_count": 16,
   "outputs": [
    {
     "data": {
      "text/plain": "92708"
     },
     "execution_count": 16,
     "metadata": {},
     "output_type": "execute_result"
    }
   ],
   "source": [
    "n = 8818\n",
    "data = data.iloc[:-n]\n",
    "len(data)"
   ],
   "metadata": {
    "collapsed": false,
    "pycharm": {
     "name": "#%%\n"
    }
   }
  },
  {
   "cell_type": "code",
   "execution_count": 17,
   "outputs": [
    {
     "data": {
      "text/plain": "   acousticness  danceability  duration_ms  energy  instrumentalness  \\\n0        0.0660         0.853     199533.0   0.785           0.00000   \n1        0.0514         0.838     195988.0   0.765           0.00021   \n2        0.0524         0.779     204347.0   0.787           0.00000   \n3        0.2460         0.869     204502.0   0.485           0.00000   \n4        0.0767         0.652     182453.0   0.512           0.12500   \n\n   liveness  loudness  speechiness    tempo  \\\n0    0.0445    -5.943       0.2640  101.027   \n1    0.0297    -2.332       0.0462  100.021   \n2    0.1400    -4.305       0.1080  124.982   \n3    0.0765    -5.595       0.0545  106.028   \n4    0.0879    -8.908       0.0302   95.070   \n\n                                    uri  valence  track_popularity  \n0  spotify:track:6ITDAE1VFqNtNBJ51uI1Jl   0.8020               0.0  \n1  spotify:track:5H7CwzYZ60e7w69tX4ivQN   0.9050              48.0  \n2  spotify:track:0CcQNd8CINkwQfe1RDtGV6   0.7080              28.0  \n3  spotify:track:6EpRaXYhGOB3fj4V2uDkMJ   0.5270              24.0  \n4  spotify:track:1SQQI3opeV0kr71tf0224D   0.0509               0.0  ",
      "text/html": "<div>\n<style scoped>\n    .dataframe tbody tr th:only-of-type {\n        vertical-align: middle;\n    }\n\n    .dataframe tbody tr th {\n        vertical-align: top;\n    }\n\n    .dataframe thead th {\n        text-align: right;\n    }\n</style>\n<table border=\"1\" class=\"dataframe\">\n  <thead>\n    <tr style=\"text-align: right;\">\n      <th></th>\n      <th>acousticness</th>\n      <th>danceability</th>\n      <th>duration_ms</th>\n      <th>energy</th>\n      <th>instrumentalness</th>\n      <th>liveness</th>\n      <th>loudness</th>\n      <th>speechiness</th>\n      <th>tempo</th>\n      <th>uri</th>\n      <th>valence</th>\n      <th>track_popularity</th>\n    </tr>\n  </thead>\n  <tbody>\n    <tr>\n      <th>0</th>\n      <td>0.0660</td>\n      <td>0.853</td>\n      <td>199533.0</td>\n      <td>0.785</td>\n      <td>0.00000</td>\n      <td>0.0445</td>\n      <td>-5.943</td>\n      <td>0.2640</td>\n      <td>101.027</td>\n      <td>spotify:track:6ITDAE1VFqNtNBJ51uI1Jl</td>\n      <td>0.8020</td>\n      <td>0.0</td>\n    </tr>\n    <tr>\n      <th>1</th>\n      <td>0.0514</td>\n      <td>0.838</td>\n      <td>195988.0</td>\n      <td>0.765</td>\n      <td>0.00021</td>\n      <td>0.0297</td>\n      <td>-2.332</td>\n      <td>0.0462</td>\n      <td>100.021</td>\n      <td>spotify:track:5H7CwzYZ60e7w69tX4ivQN</td>\n      <td>0.9050</td>\n      <td>48.0</td>\n    </tr>\n    <tr>\n      <th>2</th>\n      <td>0.0524</td>\n      <td>0.779</td>\n      <td>204347.0</td>\n      <td>0.787</td>\n      <td>0.00000</td>\n      <td>0.1400</td>\n      <td>-4.305</td>\n      <td>0.1080</td>\n      <td>124.982</td>\n      <td>spotify:track:0CcQNd8CINkwQfe1RDtGV6</td>\n      <td>0.7080</td>\n      <td>28.0</td>\n    </tr>\n    <tr>\n      <th>3</th>\n      <td>0.2460</td>\n      <td>0.869</td>\n      <td>204502.0</td>\n      <td>0.485</td>\n      <td>0.00000</td>\n      <td>0.0765</td>\n      <td>-5.595</td>\n      <td>0.0545</td>\n      <td>106.028</td>\n      <td>spotify:track:6EpRaXYhGOB3fj4V2uDkMJ</td>\n      <td>0.5270</td>\n      <td>24.0</td>\n    </tr>\n    <tr>\n      <th>4</th>\n      <td>0.0767</td>\n      <td>0.652</td>\n      <td>182453.0</td>\n      <td>0.512</td>\n      <td>0.12500</td>\n      <td>0.0879</td>\n      <td>-8.908</td>\n      <td>0.0302</td>\n      <td>95.070</td>\n      <td>spotify:track:1SQQI3opeV0kr71tf0224D</td>\n      <td>0.0509</td>\n      <td>0.0</td>\n    </tr>\n  </tbody>\n</table>\n</div>"
     },
     "execution_count": 17,
     "metadata": {},
     "output_type": "execute_result"
    }
   ],
   "source": [
    "data[\"track_popularity\"] = pop\n",
    "data.head()"
   ],
   "metadata": {
    "collapsed": false,
    "pycharm": {
     "name": "#%%\n"
    }
   }
  },
  {
   "cell_type": "code",
   "execution_count": 22,
   "outputs": [],
   "source": [
    "data = data.rename(columns={'uri': 'track_uri'})"
   ],
   "metadata": {
    "collapsed": false,
    "pycharm": {
     "name": "#%%\n"
    }
   }
  },
  {
   "cell_type": "markdown",
   "source": [],
   "metadata": {
    "collapsed": false
   }
  },
  {
   "cell_type": "code",
   "execution_count": 24,
   "outputs": [
    {
     "data": {
      "text/plain": "   pos       artist_name                             track_uri  \\\n0    0  Lost Frequencies  spotify:track:2vCtiBvJJZfz773yTfAxPP   \n1    1       John Legend  spotify:track:5WOLZP8KrXiupBjG1SSN5U   \n2    2        July Child  spotify:track:0oQDQ9QiqsO63EEBAro8Le   \n3    3            Tiësto  spotify:track:7MUS0La2IQ85vJ59fQqtoN   \n4    4         Joe Stone  spotify:track:3ciyZYofjiqmMUElM5qgGB   \n\n                              artist_uri  \\\n0  spotify:artist:7f5Zgnp2spUuuzKplmRkt7   \n1  spotify:artist:5y2Xq6xcjJb2jVM54GHK3t   \n2  spotify:artist:3Jghk94Gog2dhBAO7ZZaM8   \n3  spotify:artist:2o5jDhtHVPhrJdv3cEQ99Z   \n4  spotify:artist:4kwEd1P9j15ZqUVP5zK7Pv   \n\n                                  track_name  \\\n0        What Is Love 2016 - Mike Mago Remix   \n1   Love Me Now - Dave Audé Remix Radio Edit   \n2                               Thinkin of U   \n3  I Will Be Here - (Wolfgang Gartner Remix)   \n4           The Party (This Is How We Do It)   \n\n                              album_uri  duration_ms  \\\n0  spotify:album:4N1e8k2o2NN932Y8xgZV1p       209882   \n1  spotify:album:2CFZOjwtV7B6XzULEwIdHN       219106   \n2  spotify:album:2i0oT2HtRN4o3P45zQjel7       194000   \n3  spotify:album:2qY9UxNEbQR2O2ECc3Fd48       237066   \n4  spotify:album:3SBDe6WBbEXNtjraPxXLOh       185807   \n\n                         album_name  \n0                 What Is Love 2016  \n1             Love Me Now (Remixes)  \n2                      Thinkin of U  \n3              Kaleidoscope Remixed  \n4  The Party (This Is How We Do It)  ",
      "text/html": "<div>\n<style scoped>\n    .dataframe tbody tr th:only-of-type {\n        vertical-align: middle;\n    }\n\n    .dataframe tbody tr th {\n        vertical-align: top;\n    }\n\n    .dataframe thead th {\n        text-align: right;\n    }\n</style>\n<table border=\"1\" class=\"dataframe\">\n  <thead>\n    <tr style=\"text-align: right;\">\n      <th></th>\n      <th>pos</th>\n      <th>artist_name</th>\n      <th>track_uri</th>\n      <th>artist_uri</th>\n      <th>track_name</th>\n      <th>album_uri</th>\n      <th>duration_ms</th>\n      <th>album_name</th>\n    </tr>\n  </thead>\n  <tbody>\n    <tr>\n      <th>0</th>\n      <td>0</td>\n      <td>Lost Frequencies</td>\n      <td>spotify:track:2vCtiBvJJZfz773yTfAxPP</td>\n      <td>spotify:artist:7f5Zgnp2spUuuzKplmRkt7</td>\n      <td>What Is Love 2016 - Mike Mago Remix</td>\n      <td>spotify:album:4N1e8k2o2NN932Y8xgZV1p</td>\n      <td>209882</td>\n      <td>What Is Love 2016</td>\n    </tr>\n    <tr>\n      <th>1</th>\n      <td>1</td>\n      <td>John Legend</td>\n      <td>spotify:track:5WOLZP8KrXiupBjG1SSN5U</td>\n      <td>spotify:artist:5y2Xq6xcjJb2jVM54GHK3t</td>\n      <td>Love Me Now - Dave Audé Remix Radio Edit</td>\n      <td>spotify:album:2CFZOjwtV7B6XzULEwIdHN</td>\n      <td>219106</td>\n      <td>Love Me Now (Remixes)</td>\n    </tr>\n    <tr>\n      <th>2</th>\n      <td>2</td>\n      <td>July Child</td>\n      <td>spotify:track:0oQDQ9QiqsO63EEBAro8Le</td>\n      <td>spotify:artist:3Jghk94Gog2dhBAO7ZZaM8</td>\n      <td>Thinkin of U</td>\n      <td>spotify:album:2i0oT2HtRN4o3P45zQjel7</td>\n      <td>194000</td>\n      <td>Thinkin of U</td>\n    </tr>\n    <tr>\n      <th>3</th>\n      <td>3</td>\n      <td>Tiësto</td>\n      <td>spotify:track:7MUS0La2IQ85vJ59fQqtoN</td>\n      <td>spotify:artist:2o5jDhtHVPhrJdv3cEQ99Z</td>\n      <td>I Will Be Here - (Wolfgang Gartner Remix)</td>\n      <td>spotify:album:2qY9UxNEbQR2O2ECc3Fd48</td>\n      <td>237066</td>\n      <td>Kaleidoscope Remixed</td>\n    </tr>\n    <tr>\n      <th>4</th>\n      <td>4</td>\n      <td>Joe Stone</td>\n      <td>spotify:track:3ciyZYofjiqmMUElM5qgGB</td>\n      <td>spotify:artist:4kwEd1P9j15ZqUVP5zK7Pv</td>\n      <td>The Party (This Is How We Do It)</td>\n      <td>spotify:album:3SBDe6WBbEXNtjraPxXLOh</td>\n      <td>185807</td>\n      <td>The Party (This Is How We Do It)</td>\n    </tr>\n  </tbody>\n</table>\n</div>"
     },
     "execution_count": 24,
     "metadata": {},
     "output_type": "execute_result"
    }
   ],
   "source": [
    "songs_df.head()"
   ],
   "metadata": {
    "collapsed": false,
    "pycharm": {
     "name": "#%%\n"
    }
   }
  },
  {
   "cell_type": "code",
   "execution_count": 26,
   "outputs": [
    {
     "data": {
      "text/plain": "   acousticness  danceability  duration_ms  energy  instrumentalness  \\\n0        0.0660         0.853     199533.0   0.785           0.00000   \n1        0.0514         0.838     195988.0   0.765           0.00021   \n2        0.0524         0.779     204347.0   0.787           0.00000   \n3        0.2460         0.869     204502.0   0.485           0.00000   \n4        0.0767         0.652     182453.0   0.512           0.12500   \n\n   liveness  loudness  speechiness    tempo  \\\n0    0.0445    -5.943       0.2640  101.027   \n1    0.0297    -2.332       0.0462  100.021   \n2    0.1400    -4.305       0.1080  124.982   \n3    0.0765    -5.595       0.0545  106.028   \n4    0.0879    -8.908       0.0302   95.070   \n\n                              track_uri  valence  track_popularity  \n0  spotify:track:6ITDAE1VFqNtNBJ51uI1Jl   0.8020               0.0  \n1  spotify:track:5H7CwzYZ60e7w69tX4ivQN   0.9050              48.0  \n2  spotify:track:0CcQNd8CINkwQfe1RDtGV6   0.7080              28.0  \n3  spotify:track:6EpRaXYhGOB3fj4V2uDkMJ   0.5270              24.0  \n4  spotify:track:1SQQI3opeV0kr71tf0224D   0.0509               0.0  ",
      "text/html": "<div>\n<style scoped>\n    .dataframe tbody tr th:only-of-type {\n        vertical-align: middle;\n    }\n\n    .dataframe tbody tr th {\n        vertical-align: top;\n    }\n\n    .dataframe thead th {\n        text-align: right;\n    }\n</style>\n<table border=\"1\" class=\"dataframe\">\n  <thead>\n    <tr style=\"text-align: right;\">\n      <th></th>\n      <th>acousticness</th>\n      <th>danceability</th>\n      <th>duration_ms</th>\n      <th>energy</th>\n      <th>instrumentalness</th>\n      <th>liveness</th>\n      <th>loudness</th>\n      <th>speechiness</th>\n      <th>tempo</th>\n      <th>track_uri</th>\n      <th>valence</th>\n      <th>track_popularity</th>\n    </tr>\n  </thead>\n  <tbody>\n    <tr>\n      <th>0</th>\n      <td>0.0660</td>\n      <td>0.853</td>\n      <td>199533.0</td>\n      <td>0.785</td>\n      <td>0.00000</td>\n      <td>0.0445</td>\n      <td>-5.943</td>\n      <td>0.2640</td>\n      <td>101.027</td>\n      <td>spotify:track:6ITDAE1VFqNtNBJ51uI1Jl</td>\n      <td>0.8020</td>\n      <td>0.0</td>\n    </tr>\n    <tr>\n      <th>1</th>\n      <td>0.0514</td>\n      <td>0.838</td>\n      <td>195988.0</td>\n      <td>0.765</td>\n      <td>0.00021</td>\n      <td>0.0297</td>\n      <td>-2.332</td>\n      <td>0.0462</td>\n      <td>100.021</td>\n      <td>spotify:track:5H7CwzYZ60e7w69tX4ivQN</td>\n      <td>0.9050</td>\n      <td>48.0</td>\n    </tr>\n    <tr>\n      <th>2</th>\n      <td>0.0524</td>\n      <td>0.779</td>\n      <td>204347.0</td>\n      <td>0.787</td>\n      <td>0.00000</td>\n      <td>0.1400</td>\n      <td>-4.305</td>\n      <td>0.1080</td>\n      <td>124.982</td>\n      <td>spotify:track:0CcQNd8CINkwQfe1RDtGV6</td>\n      <td>0.7080</td>\n      <td>28.0</td>\n    </tr>\n    <tr>\n      <th>3</th>\n      <td>0.2460</td>\n      <td>0.869</td>\n      <td>204502.0</td>\n      <td>0.485</td>\n      <td>0.00000</td>\n      <td>0.0765</td>\n      <td>-5.595</td>\n      <td>0.0545</td>\n      <td>106.028</td>\n      <td>spotify:track:6EpRaXYhGOB3fj4V2uDkMJ</td>\n      <td>0.5270</td>\n      <td>24.0</td>\n    </tr>\n    <tr>\n      <th>4</th>\n      <td>0.0767</td>\n      <td>0.652</td>\n      <td>182453.0</td>\n      <td>0.512</td>\n      <td>0.12500</td>\n      <td>0.0879</td>\n      <td>-8.908</td>\n      <td>0.0302</td>\n      <td>95.070</td>\n      <td>spotify:track:1SQQI3opeV0kr71tf0224D</td>\n      <td>0.0509</td>\n      <td>0.0</td>\n    </tr>\n  </tbody>\n</table>\n</div>"
     },
     "execution_count": 26,
     "metadata": {},
     "output_type": "execute_result"
    }
   ],
   "source": [
    "len(songs_df)\n",
    "data.head()"
   ],
   "metadata": {
    "collapsed": false,
    "pycharm": {
     "name": "#%%\n"
    }
   }
  },
  {
   "cell_type": "code",
   "execution_count": 30,
   "outputs": [
    {
     "data": {
      "text/plain": "   pos      artist_name                             track_uri  \\\n0    7      Fabri Fibra  spotify:track:6ITDAE1VFqNtNBJ51uI1Jl   \n1    8       Ed Sheeran  spotify:track:5H7CwzYZ60e7w69tX4ivQN   \n2    9  Imagine Dragons  spotify:track:0CcQNd8CINkwQfe1RDtGV6   \n3   10       Liam Payne  spotify:track:6EpRaXYhGOB3fj4V2uDkMJ   \n4   11             Møme  spotify:track:1SQQI3opeV0kr71tf0224D   \n\n                              artist_uri                     track_name  \\\n0  spotify:artist:7u710e44HW3K7A5eTnRqHC                       Fenomeno   \n1  spotify:artist:6eUKZXaKkcviH0Ku9w2n3V  Shape of You - Galantis Remix   \n2  spotify:artist:53XhwfbYqKCa1cC15pYq2q                       Believer   \n3  spotify:artist:5pUo3fmmHT8bhCyHE52hA6                Strip That Down   \n4  spotify:artist:4lDXfIznmGueBgTjI3qGUX                         Mirage   \n\n                              album_uri  duration_ms_x       album_name  \\\n0  spotify:album:3Ox0clmVCoxyyb220bti6r         199533         Fenomeno   \n1  spotify:album:6K5S3fWJ6logqsusWVaJUG         195988     Shape of You   \n2  spotify:album:5GlPAy2PRJW06GVFhKwGTl         204346           Evolve   \n3  spotify:album:2mnDyPSNM02LMvniaMWnLl         204502  Strip That Down   \n4  spotify:album:4ZaeYUM5vgvkpexijZ3w2r         182453         Panorama   \n\n   acousticness  danceability  duration_ms_y  energy  instrumentalness  \\\n0        0.0660         0.853       199533.0   0.785           0.00000   \n1        0.0514         0.838       195988.0   0.765           0.00021   \n2        0.0524         0.779       204347.0   0.787           0.00000   \n3        0.2460         0.869       204502.0   0.485           0.00000   \n4        0.0767         0.652       182453.0   0.512           0.12500   \n\n   liveness  loudness  speechiness    tempo  valence  track_popularity  \n0    0.0445    -5.943       0.2640  101.027   0.8020               0.0  \n1    0.0297    -2.332       0.0462  100.021   0.9050              48.0  \n2    0.1400    -4.305       0.1080  124.982   0.7080              28.0  \n3    0.0765    -5.595       0.0545  106.028   0.5270              24.0  \n4    0.0879    -8.908       0.0302   95.070   0.0509               0.0  ",
      "text/html": "<div>\n<style scoped>\n    .dataframe tbody tr th:only-of-type {\n        vertical-align: middle;\n    }\n\n    .dataframe tbody tr th {\n        vertical-align: top;\n    }\n\n    .dataframe thead th {\n        text-align: right;\n    }\n</style>\n<table border=\"1\" class=\"dataframe\">\n  <thead>\n    <tr style=\"text-align: right;\">\n      <th></th>\n      <th>pos</th>\n      <th>artist_name</th>\n      <th>track_uri</th>\n      <th>artist_uri</th>\n      <th>track_name</th>\n      <th>album_uri</th>\n      <th>duration_ms_x</th>\n      <th>album_name</th>\n      <th>acousticness</th>\n      <th>danceability</th>\n      <th>duration_ms_y</th>\n      <th>energy</th>\n      <th>instrumentalness</th>\n      <th>liveness</th>\n      <th>loudness</th>\n      <th>speechiness</th>\n      <th>tempo</th>\n      <th>valence</th>\n      <th>track_popularity</th>\n    </tr>\n  </thead>\n  <tbody>\n    <tr>\n      <th>0</th>\n      <td>7</td>\n      <td>Fabri Fibra</td>\n      <td>spotify:track:6ITDAE1VFqNtNBJ51uI1Jl</td>\n      <td>spotify:artist:7u710e44HW3K7A5eTnRqHC</td>\n      <td>Fenomeno</td>\n      <td>spotify:album:3Ox0clmVCoxyyb220bti6r</td>\n      <td>199533</td>\n      <td>Fenomeno</td>\n      <td>0.0660</td>\n      <td>0.853</td>\n      <td>199533.0</td>\n      <td>0.785</td>\n      <td>0.00000</td>\n      <td>0.0445</td>\n      <td>-5.943</td>\n      <td>0.2640</td>\n      <td>101.027</td>\n      <td>0.8020</td>\n      <td>0.0</td>\n    </tr>\n    <tr>\n      <th>1</th>\n      <td>8</td>\n      <td>Ed Sheeran</td>\n      <td>spotify:track:5H7CwzYZ60e7w69tX4ivQN</td>\n      <td>spotify:artist:6eUKZXaKkcviH0Ku9w2n3V</td>\n      <td>Shape of You - Galantis Remix</td>\n      <td>spotify:album:6K5S3fWJ6logqsusWVaJUG</td>\n      <td>195988</td>\n      <td>Shape of You</td>\n      <td>0.0514</td>\n      <td>0.838</td>\n      <td>195988.0</td>\n      <td>0.765</td>\n      <td>0.00021</td>\n      <td>0.0297</td>\n      <td>-2.332</td>\n      <td>0.0462</td>\n      <td>100.021</td>\n      <td>0.9050</td>\n      <td>48.0</td>\n    </tr>\n    <tr>\n      <th>2</th>\n      <td>9</td>\n      <td>Imagine Dragons</td>\n      <td>spotify:track:0CcQNd8CINkwQfe1RDtGV6</td>\n      <td>spotify:artist:53XhwfbYqKCa1cC15pYq2q</td>\n      <td>Believer</td>\n      <td>spotify:album:5GlPAy2PRJW06GVFhKwGTl</td>\n      <td>204346</td>\n      <td>Evolve</td>\n      <td>0.0524</td>\n      <td>0.779</td>\n      <td>204347.0</td>\n      <td>0.787</td>\n      <td>0.00000</td>\n      <td>0.1400</td>\n      <td>-4.305</td>\n      <td>0.1080</td>\n      <td>124.982</td>\n      <td>0.7080</td>\n      <td>28.0</td>\n    </tr>\n    <tr>\n      <th>3</th>\n      <td>10</td>\n      <td>Liam Payne</td>\n      <td>spotify:track:6EpRaXYhGOB3fj4V2uDkMJ</td>\n      <td>spotify:artist:5pUo3fmmHT8bhCyHE52hA6</td>\n      <td>Strip That Down</td>\n      <td>spotify:album:2mnDyPSNM02LMvniaMWnLl</td>\n      <td>204502</td>\n      <td>Strip That Down</td>\n      <td>0.2460</td>\n      <td>0.869</td>\n      <td>204502.0</td>\n      <td>0.485</td>\n      <td>0.00000</td>\n      <td>0.0765</td>\n      <td>-5.595</td>\n      <td>0.0545</td>\n      <td>106.028</td>\n      <td>0.5270</td>\n      <td>24.0</td>\n    </tr>\n    <tr>\n      <th>4</th>\n      <td>11</td>\n      <td>Møme</td>\n      <td>spotify:track:1SQQI3opeV0kr71tf0224D</td>\n      <td>spotify:artist:4lDXfIznmGueBgTjI3qGUX</td>\n      <td>Mirage</td>\n      <td>spotify:album:4ZaeYUM5vgvkpexijZ3w2r</td>\n      <td>182453</td>\n      <td>Panorama</td>\n      <td>0.0767</td>\n      <td>0.652</td>\n      <td>182453.0</td>\n      <td>0.512</td>\n      <td>0.12500</td>\n      <td>0.0879</td>\n      <td>-8.908</td>\n      <td>0.0302</td>\n      <td>95.070</td>\n      <td>0.0509</td>\n      <td>0.0</td>\n    </tr>\n  </tbody>\n</table>\n</div>"
     },
     "execution_count": 30,
     "metadata": {},
     "output_type": "execute_result"
    }
   ],
   "source": [
    "full_data = pd.merge(\n",
    "    songs_df, data, on='track_uri', how='inner'\n",
    ")\n",
    "full_data.head()"
   ],
   "metadata": {
    "collapsed": false,
    "pycharm": {
     "name": "#%%\n"
    }
   }
  },
  {
   "cell_type": "code",
   "execution_count": 38,
   "outputs": [
    {
     "name": "stdout",
     "output_type": "stream",
     "text": [
      "README.md             audio_features.csv    full_data.csv\r\n",
      "SpotipyApi.ipynb      \u001B[34mdata\u001B[m\u001B[m/                 pre_processing.ipynb\r\n"
     ]
    }
   ],
   "source": [
    "ls"
   ],
   "metadata": {
    "collapsed": false,
    "pycharm": {
     "name": "#%%\n"
    }
   }
  },
  {
   "cell_type": "code",
   "execution_count": 1,
   "outputs": [
    {
     "ename": "NameError",
     "evalue": "name 'full_data' is not defined",
     "output_type": "error",
     "traceback": [
      "\u001B[0;31m---------------------------------------------------------------------------\u001B[0m",
      "\u001B[0;31mNameError\u001B[0m                                 Traceback (most recent call last)",
      "\u001B[0;32m<ipython-input-1-015abac6f2e5>\u001B[0m in \u001B[0;36m<module>\u001B[0;34m\u001B[0m\n\u001B[0;32m----> 1\u001B[0;31m \u001B[0mfull_data\u001B[0m\u001B[0;34m.\u001B[0m\u001B[0mto_csv\u001B[0m\u001B[0;34m(\u001B[0m\u001B[0;34m'full_data.csv'\u001B[0m\u001B[0;34m)\u001B[0m\u001B[0;34m\u001B[0m\u001B[0;34m\u001B[0m\u001B[0m\n\u001B[0m\u001B[1;32m      2\u001B[0m \u001B[0mfull_data\u001B[0m\u001B[0;34m.\u001B[0m\u001B[0mhead\u001B[0m\u001B[0;34m(\u001B[0m\u001B[0;34m)\u001B[0m\u001B[0;34m\u001B[0m\u001B[0;34m\u001B[0m\u001B[0m\n",
      "\u001B[0;31mNameError\u001B[0m: name 'full_data' is not defined"
     ]
    }
   ],
   "source": [
    "full_data.to_csv('full_data.csv')"
   ],
   "metadata": {
    "collapsed": false,
    "pycharm": {
     "name": "#%%\n"
    }
   }
  },
  {
   "cell_type": "code",
   "execution_count": 5,
   "outputs": [
    {
     "data": {
      "text/plain": "   Unnamed: 0  pos      artist_name                             track_uri  \\\n0           0    7      Fabri Fibra  spotify:track:6ITDAE1VFqNtNBJ51uI1Jl   \n1           1    8       Ed Sheeran  spotify:track:5H7CwzYZ60e7w69tX4ivQN   \n2           2    9  Imagine Dragons  spotify:track:0CcQNd8CINkwQfe1RDtGV6   \n3           3   10       Liam Payne  spotify:track:6EpRaXYhGOB3fj4V2uDkMJ   \n4           4   11             Møme  spotify:track:1SQQI3opeV0kr71tf0224D   \n\n                              artist_uri                     track_name  \\\n0  spotify:artist:7u710e44HW3K7A5eTnRqHC                       Fenomeno   \n1  spotify:artist:6eUKZXaKkcviH0Ku9w2n3V  Shape of You - Galantis Remix   \n2  spotify:artist:53XhwfbYqKCa1cC15pYq2q                       Believer   \n3  spotify:artist:5pUo3fmmHT8bhCyHE52hA6                Strip That Down   \n4  spotify:artist:4lDXfIznmGueBgTjI3qGUX                         Mirage   \n\n                              album_uri  duration_ms_x       album_name  \\\n0  spotify:album:3Ox0clmVCoxyyb220bti6r         199533         Fenomeno   \n1  spotify:album:6K5S3fWJ6logqsusWVaJUG         195988     Shape of You   \n2  spotify:album:5GlPAy2PRJW06GVFhKwGTl         204346           Evolve   \n3  spotify:album:2mnDyPSNM02LMvniaMWnLl         204502  Strip That Down   \n4  spotify:album:4ZaeYUM5vgvkpexijZ3w2r         182453         Panorama   \n\n   acousticness  danceability  duration_ms_y  energy  instrumentalness  \\\n0        0.0660         0.853       199533.0   0.785           0.00000   \n1        0.0514         0.838       195988.0   0.765           0.00021   \n2        0.0524         0.779       204347.0   0.787           0.00000   \n3        0.2460         0.869       204502.0   0.485           0.00000   \n4        0.0767         0.652       182453.0   0.512           0.12500   \n\n   liveness  loudness  speechiness    tempo  valence  track_popularity  \n0    0.0445    -5.943       0.2640  101.027   0.8020               0.0  \n1    0.0297    -2.332       0.0462  100.021   0.9050              48.0  \n2    0.1400    -4.305       0.1080  124.982   0.7080              28.0  \n3    0.0765    -5.595       0.0545  106.028   0.5270              24.0  \n4    0.0879    -8.908       0.0302   95.070   0.0509               0.0  ",
      "text/html": "<div>\n<style scoped>\n    .dataframe tbody tr th:only-of-type {\n        vertical-align: middle;\n    }\n\n    .dataframe tbody tr th {\n        vertical-align: top;\n    }\n\n    .dataframe thead th {\n        text-align: right;\n    }\n</style>\n<table border=\"1\" class=\"dataframe\">\n  <thead>\n    <tr style=\"text-align: right;\">\n      <th></th>\n      <th>Unnamed: 0</th>\n      <th>pos</th>\n      <th>artist_name</th>\n      <th>track_uri</th>\n      <th>artist_uri</th>\n      <th>track_name</th>\n      <th>album_uri</th>\n      <th>duration_ms_x</th>\n      <th>album_name</th>\n      <th>acousticness</th>\n      <th>danceability</th>\n      <th>duration_ms_y</th>\n      <th>energy</th>\n      <th>instrumentalness</th>\n      <th>liveness</th>\n      <th>loudness</th>\n      <th>speechiness</th>\n      <th>tempo</th>\n      <th>valence</th>\n      <th>track_popularity</th>\n    </tr>\n  </thead>\n  <tbody>\n    <tr>\n      <th>0</th>\n      <td>0</td>\n      <td>7</td>\n      <td>Fabri Fibra</td>\n      <td>spotify:track:6ITDAE1VFqNtNBJ51uI1Jl</td>\n      <td>spotify:artist:7u710e44HW3K7A5eTnRqHC</td>\n      <td>Fenomeno</td>\n      <td>spotify:album:3Ox0clmVCoxyyb220bti6r</td>\n      <td>199533</td>\n      <td>Fenomeno</td>\n      <td>0.0660</td>\n      <td>0.853</td>\n      <td>199533.0</td>\n      <td>0.785</td>\n      <td>0.00000</td>\n      <td>0.0445</td>\n      <td>-5.943</td>\n      <td>0.2640</td>\n      <td>101.027</td>\n      <td>0.8020</td>\n      <td>0.0</td>\n    </tr>\n    <tr>\n      <th>1</th>\n      <td>1</td>\n      <td>8</td>\n      <td>Ed Sheeran</td>\n      <td>spotify:track:5H7CwzYZ60e7w69tX4ivQN</td>\n      <td>spotify:artist:6eUKZXaKkcviH0Ku9w2n3V</td>\n      <td>Shape of You - Galantis Remix</td>\n      <td>spotify:album:6K5S3fWJ6logqsusWVaJUG</td>\n      <td>195988</td>\n      <td>Shape of You</td>\n      <td>0.0514</td>\n      <td>0.838</td>\n      <td>195988.0</td>\n      <td>0.765</td>\n      <td>0.00021</td>\n      <td>0.0297</td>\n      <td>-2.332</td>\n      <td>0.0462</td>\n      <td>100.021</td>\n      <td>0.9050</td>\n      <td>48.0</td>\n    </tr>\n    <tr>\n      <th>2</th>\n      <td>2</td>\n      <td>9</td>\n      <td>Imagine Dragons</td>\n      <td>spotify:track:0CcQNd8CINkwQfe1RDtGV6</td>\n      <td>spotify:artist:53XhwfbYqKCa1cC15pYq2q</td>\n      <td>Believer</td>\n      <td>spotify:album:5GlPAy2PRJW06GVFhKwGTl</td>\n      <td>204346</td>\n      <td>Evolve</td>\n      <td>0.0524</td>\n      <td>0.779</td>\n      <td>204347.0</td>\n      <td>0.787</td>\n      <td>0.00000</td>\n      <td>0.1400</td>\n      <td>-4.305</td>\n      <td>0.1080</td>\n      <td>124.982</td>\n      <td>0.7080</td>\n      <td>28.0</td>\n    </tr>\n    <tr>\n      <th>3</th>\n      <td>3</td>\n      <td>10</td>\n      <td>Liam Payne</td>\n      <td>spotify:track:6EpRaXYhGOB3fj4V2uDkMJ</td>\n      <td>spotify:artist:5pUo3fmmHT8bhCyHE52hA6</td>\n      <td>Strip That Down</td>\n      <td>spotify:album:2mnDyPSNM02LMvniaMWnLl</td>\n      <td>204502</td>\n      <td>Strip That Down</td>\n      <td>0.2460</td>\n      <td>0.869</td>\n      <td>204502.0</td>\n      <td>0.485</td>\n      <td>0.00000</td>\n      <td>0.0765</td>\n      <td>-5.595</td>\n      <td>0.0545</td>\n      <td>106.028</td>\n      <td>0.5270</td>\n      <td>24.0</td>\n    </tr>\n    <tr>\n      <th>4</th>\n      <td>4</td>\n      <td>11</td>\n      <td>Møme</td>\n      <td>spotify:track:1SQQI3opeV0kr71tf0224D</td>\n      <td>spotify:artist:4lDXfIznmGueBgTjI3qGUX</td>\n      <td>Mirage</td>\n      <td>spotify:album:4ZaeYUM5vgvkpexijZ3w2r</td>\n      <td>182453</td>\n      <td>Panorama</td>\n      <td>0.0767</td>\n      <td>0.652</td>\n      <td>182453.0</td>\n      <td>0.512</td>\n      <td>0.12500</td>\n      <td>0.0879</td>\n      <td>-8.908</td>\n      <td>0.0302</td>\n      <td>95.070</td>\n      <td>0.0509</td>\n      <td>0.0</td>\n    </tr>\n  </tbody>\n</table>\n</div>"
     },
     "execution_count": 5,
     "metadata": {},
     "output_type": "execute_result"
    }
   ],
   "source": [
    "full_data = pd.read_csv(\"full_data.csv\")\n",
    "full_data.head()"
   ],
   "metadata": {
    "collapsed": false,
    "pycharm": {
     "name": "#%%\n"
    }
   }
  },
  {
   "cell_type": "code",
   "execution_count": null,
   "outputs": [
    {
     "name": "stdout",
     "output_type": "stream",
     "text": [
      "0\n",
      "100\n",
      "200\n",
      "300\n",
      "400\n",
      "500\n",
      "600\n",
      "700\n",
      "800\n",
      "900\n",
      "1000\n",
      "1100\n",
      "1200\n",
      "1300\n",
      "1400\n",
      "1500\n",
      "1600\n",
      "1700\n"
     ]
    }
   ],
   "source": [
    "full_data = pd.read_csv('full_data.csv')\n",
    "pop_artist = []\n",
    "sleep_min = 1\n",
    "sleep_max = 2\n",
    "start_time = time.time()\n",
    "request_count = 0\n",
    "count = 0\n",
    "# 2337\n",
    "for i in range(0,2336):\n",
    "        if request_count % 13 == 0:\n",
    "            time.sleep(np.random.uniform(sleep_min, sleep_max))\n",
    "            count += 1\n",
    "        else:\n",
    "\n",
    "            artists_to_get = full_data.iloc[request_count:request_count+43][\"artist_uri\"] #get the uri of these songs to get audio features\n",
    "            track_list = sp.artists(artists_to_get)\n",
    "            for j in track_list['artists']:\n",
    "                # print('here')\n",
    "                if j is None:\n",
    "                    pop_artist.append(None)\n",
    "                else:\n",
    "                    pop_artist.append(j['popularity'])\n",
    "        request_count+=43\n",
    "        if i % 100 == 0:\n",
    "            print(i)\n",
    "        if i > 2300:\n",
    "            if i % 2 == 0:\n",
    "                print(i)\n",
    "\n",
    "print(count)"
   ],
   "metadata": {
    "collapsed": false,
    "pycharm": {
     "name": "#%%\n",
     "is_executing": true
    }
   }
  },
  {
   "cell_type": "code",
   "execution_count": null,
   "outputs": [],
   "source": [
    "len(pop_artist)"
   ],
   "metadata": {
    "collapsed": false,
    "pycharm": {
     "name": "#%%\n"
    }
   }
  }
 ],
 "metadata": {
  "kernelspec": {
   "display_name": "Python 3",
   "language": "python",
   "name": "python3"
  },
  "language_info": {
   "codemirror_mode": {
    "name": "ipython",
    "version": 2
   },
   "file_extension": ".py",
   "mimetype": "text/x-python",
   "name": "python",
   "nbconvert_exporter": "python",
   "pygments_lexer": "ipython2",
   "version": "2.7.6"
  }
 },
 "nbformat": 4,
 "nbformat_minor": 0
}